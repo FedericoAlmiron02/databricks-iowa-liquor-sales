{
 "cells": [
  {
   "cell_type": "markdown",
   "metadata": {
    "application/vnd.databricks.v1+cell": {
     "cellMetadata": {
      "byteLimit": 2048000,
      "rowLimit": 10000
     },
     "inputWidgets": {},
     "nuid": "26a9f5c7-aa57-46c6-9008-1179cc40af84",
     "showTitle": false,
     "tableResultSettingsMap": {},
     "title": ""
    }
   },
   "source": [
    "# Parámetros"
   ]
  },
  {
   "cell_type": "code",
   "execution_count": 0,
   "metadata": {
    "application/vnd.databricks.v1+cell": {
     "cellMetadata": {
      "byteLimit": 2048000,
      "rowLimit": 10000
     },
     "inputWidgets": {},
     "nuid": "9f1eceee-d72f-4a71-afac-e3c4a4b0ddf2",
     "showTitle": false,
     "tableResultSettingsMap": {},
     "title": ""
    }
   },
   "outputs": [],
   "source": [
    "# catalog = \"sales\"\n",
    "# silver_schema = \"sales_silver\"\n",
    "# silver_table = \"sales_curated\"\n",
    "# gold_schema = \"sales_gold\"\n",
    "# gold_fact_table = \"fact_sales\"\n",
    "# dim_time_table = \"dim_time\"\n",
    "# dim_product_table = \"dim_product\"\n",
    "# dim_seller_table = \"dim_seller\"\n",
    "# dim_store_table = \"dim_store\""
   ]
  },
  {
   "cell_type": "code",
   "execution_count": 0,
   "metadata": {
    "application/vnd.databricks.v1+cell": {
     "cellMetadata": {
      "byteLimit": 2048000,
      "rowLimit": 10000
     },
     "inputWidgets": {},
     "nuid": "84188aa2-87df-47b1-b359-fe1559430725",
     "showTitle": false,
     "tableResultSettingsMap": {},
     "title": ""
    }
   },
   "outputs": [],
   "source": [
    "#Obtención de los parametros\n",
    "try:\n",
    "    catalog = dbutils.widgets.get(\"catalog\")\n",
    "    silver_schema = dbutils.widgets.get(\"silver_schema\")\n",
    "    silver_table = dbutils.widgets.get(\"silver_table\")\n",
    "    gold_schema = dbutils.widgets.get(\"gold_schema\")\n",
    "    gold_fact_table = dbutils.widgets.get(\"gold_fact_table\")\n",
    "    dim_time_table = dbutils.widgets.get(\"dim_time_table\")\n",
    "    dim_product_table = dbutils.widgets.get(\"dim_product_table\")\n",
    "    dim_seller_table = dbutils.widgets.get(\"dim_seller_table\")\n",
    "    dim_store_table = dbutils.widgets.get(\"dim_store_table\")\n",
    "    print(\"Parámetros cargados exitosamente.\")\n",
    "except Exception as e:\n",
    "    print(f\"Error fatal: No se pudieron obtener los parámetros\")\n",
    "    print(f\"Detalle del error: {e}\")\n",
    "    raise Exception(\"Error al obtener parámetros\")"
   ]
  },
  {
   "cell_type": "markdown",
   "metadata": {
    "application/vnd.databricks.v1+cell": {
     "cellMetadata": {
      "byteLimit": 2048000,
      "rowLimit": 10000
     },
     "inputWidgets": {},
     "nuid": "7fcc1ba3-f698-42f2-b60b-4efc416ee845",
     "showTitle": false,
     "tableResultSettingsMap": {},
     "title": ""
    }
   },
   "source": [
    "# Cracion tabla Fact_Sales si no existe"
   ]
  },
  {
   "cell_type": "code",
   "execution_count": 0,
   "metadata": {
    "application/vnd.databricks.v1+cell": {
     "cellMetadata": {
      "byteLimit": 2048000,
      "rowLimit": 10000
     },
     "inputWidgets": {},
     "nuid": "fc54bced-20c0-4f4c-bd61-28394257d66b",
     "showTitle": false,
     "tableResultSettingsMap": {},
     "title": ""
    }
   },
   "outputs": [],
   "source": [
    "try:\n",
    "  create_query = f\"\"\"\n",
    "  CREATE TABLE IF NOT EXISTS {catalog}.{gold_schema}.{gold_fact_table} (\n",
    "    idSales BIGINT GENERATED ALWAYS AS IDENTITY,\n",
    "    InvoiceLineNo STRING,\n",
    "    idProduct BIGINT,\n",
    "    idSeller BIGINT,\n",
    "    idDate BIGINT,\n",
    "    idStore BIGINT,\n",
    "    sale_bottles INTEGER,\n",
    "    sale_dollars DECIMAL(10, 2),\n",
    "    sale_margin DECIMAL(10, 2),\n",
    "    total_cost DECIMAL(10, 2),\n",
    "    sale_liters DECIMAL(10, 3),\n",
    "    sale_cases INTEGER,\n",
    "    state_bottle_cost DECIMAL(10, 2),\n",
    "    state_bottle_retail DECIMAL(10, 2),\n",
    "    StoreDay TIMESTAMP\n",
    "  )\n",
    "  USING DELTA\n",
    "  \"\"\"\n",
    "  spark.sql(create_query)\n",
    "  print(f\"Tabla {gold_fact_table} asegurada\")\n",
    "except Exception as e:\n",
    "    print(f\"Error fatal: Fallo durante la creación de la tabla {gold_fact_table}\")\n",
    "    print(f\"Detalle del error: {e}\")\n",
    "    raise Exception(f\"Error en DDL para {gold_fact_table}. Verifique la sintaxis o los permisos.\")"
   ]
  },
  {
   "cell_type": "markdown",
   "metadata": {
    "application/vnd.databricks.v1+cell": {
     "cellMetadata": {
      "byteLimit": 2048000,
      "rowLimit": 10000
     },
     "inputWidgets": {},
     "nuid": "b7585cbd-df98-455c-9497-bc3992e492da",
     "showTitle": false,
     "tableResultSettingsMap": {},
     "title": ""
    }
   },
   "source": [
    "# Carga de Fact_Sales"
   ]
  },
  {
   "cell_type": "code",
   "execution_count": 0,
   "metadata": {
    "application/vnd.databricks.v1+cell": {
     "cellMetadata": {
      "byteLimit": 2048000,
      "rowLimit": 10000
     },
     "inputWidgets": {},
     "nuid": "58a16949-e4ee-4240-aad8-93f642e01e03",
     "showTitle": false,
     "tableResultSettingsMap": {},
     "title": ""
    }
   },
   "outputs": [],
   "source": [
    "try:\n",
    "  merge_query = f\"\"\"\n",
    "  MERGE INTO {catalog}.{gold_schema}.{gold_fact_table} AS target\n",
    "  USING (\n",
    "      -- Unimos Silver con todas las Dimensiones Gold\n",
    "      -- para encontrar las llaves primarias correctas (idProduct, idTime, etc.)\n",
    "      SELECT DISTINCT\n",
    "          -- Llave Natural de la transacción\n",
    "          sls.invoice_line_no, \n",
    "          \n",
    "          -- Llaves Foráneas (obtenidas de las dimensiones)\n",
    "          p.idProduct,\n",
    "          sel.idSeller,\n",
    "          t.dateId,\n",
    "          s.idStore,\n",
    "\n",
    "          -- Medidas (directo de Silver)\n",
    "          sls.sale_bottles,\n",
    "          sls.sale_dollars,\n",
    "          sls.sale_margin,\n",
    "          sls.total_cost,\n",
    "          sls.sale_liters,\n",
    "          sls.sale_cases,\n",
    "          sls.state_bottle_cost,\n",
    "          sls.state_bottle_retail,\n",
    "          current_timestamp() AS StoreDay\n",
    "\n",
    "      FROM {catalog}.{silver_schema}.{silver_table} AS sls\n",
    "      \n",
    "      -- --- JOINS A DIMENSIONES ---\n",
    "      \n",
    "      -- Join con DimProduct\n",
    "      LEFT JOIN {catalog}.{gold_schema}.{dim_product_table} AS p\n",
    "          ON sls.itemno = p.itemno\n",
    "          \n",
    "      -- Join con DimSeller\n",
    "      LEFT JOIN {catalog}.{gold_schema}.{dim_seller_table} AS sel\n",
    "          ON sls.vendor_no = sel.vendor_no\n",
    "\n",
    "      -- Join con DimStore\n",
    "      LEFT JOIN {catalog}.{gold_schema}.{dim_store_table} AS s\n",
    "          ON sls.store_number = s.store_number\n",
    "\n",
    "      -- Join con DimTime (aquí la llave natural es la 'date')\n",
    "      LEFT JOIN {catalog}.{gold_schema}.{dim_time_table} AS t\n",
    "          ON sls.date = t.date\n",
    "\n",
    "  ) AS source\n",
    "\n",
    "  -- --- Condición de MERGE ---\n",
    "  --Se unen target y source usando la Llave Natural de la transacción: InvoiceLineNo\n",
    "  ON target.InvoiceLineNo = source.invoice_line_no\n",
    "\n",
    "  -- --- Lógica de Carga ---\n",
    "\n",
    "  -- CASO MATCHED: La venta ya existe.\n",
    "  --    Actualizamos todas las medidas y llaves por si hubo correcciones.\n",
    "  WHEN MATCHED THEN\n",
    "    UPDATE SET\n",
    "      target.idProduct = source.idProduct,\n",
    "      target.idSeller = source.idSeller,\n",
    "      target.idDate = source.dateId,\n",
    "      target.idStore = source.idStore,\n",
    "      target.sale_bottles = source.sale_bottles,\n",
    "      target.sale_dollars = source.sale_dollars,\n",
    "      target.sale_margin = source.sale_margin,\n",
    "      target.total_cost = source.total_cost,\n",
    "      target.sale_liters = source.sale_liters,\n",
    "      target.sale_cases = source.sale_cases,\n",
    "      target.state_bottle_cost = source.state_bottle_cost,\n",
    "      target.state_bottle_retail = source.state_bottle_retail,\n",
    "      target.StoreDay = source.StoreDay\n",
    "\n",
    "  --CASO NOT MATCHED: Es una venta nueva.\n",
    "  --    La insertamos.\n",
    "  WHEN NOT MATCHED THEN\n",
    "    INSERT (\n",
    "      InvoiceLineNo,\n",
    "      idProduct,\n",
    "      idSeller,\n",
    "      idDate,\n",
    "      idStore,\n",
    "      sale_bottles,\n",
    "      sale_dollars,\n",
    "      sale_margin,\n",
    "      total_cost,\n",
    "      sale_liters,\n",
    "      sale_cases,\n",
    "      state_bottle_cost,\n",
    "      state_bottle_retail,\n",
    "      StoreDay\n",
    "    )\n",
    "    VALUES (\n",
    "      source.invoice_line_no,\n",
    "      source.idProduct,\n",
    "      source.idSeller,\n",
    "      source.dateId,\n",
    "      source.idStore,\n",
    "      source.sale_bottles,\n",
    "      source.sale_dollars,\n",
    "      source.sale_margin,\n",
    "      source.total_cost,\n",
    "      source.sale_liters,\n",
    "      source.sale_cases,\n",
    "      source.state_bottle_cost,\n",
    "      source.state_bottle_retail,\n",
    "      source.StoreDay\n",
    "    )\n",
    "  \"\"\"\n",
    "\n",
    "  # --- Ejecución ---\n",
    "  spark.sql(merge_query)\n",
    "  print(f\"Carga de datos completada en '{gold_fact_table}' mediante MERGE.\")\n",
    "\n",
    "except Exception as e:\n",
    "    print(f\"Error fatal: Fallo durante el MERGE en {gold_fact_table}\")\n",
    "    print(f\"Detalle del error: {e}\")\n",
    "    raise Exception(f\"Error en DML para {gold_fact_table}. Verifique los JOINs con las dimensiones o la lógica del MERGE.\")"
   ]
  }
 ],
 "metadata": {
  "application/vnd.databricks.v1+notebook": {
   "computePreferences": null,
   "dashboards": [],
   "environmentMetadata": {
    "base_environment": "",
    "environment_version": "4"
   },
   "inputWidgetPreferences": null,
   "language": "python",
   "notebookMetadata": {
    "mostRecentlyExecutedCommandWithImplicitDF": {
     "commandId": 6959554473441286,
     "dataframes": [
      "_sqldf"
     ]
    },
    "pythonIndentUnit": 4
   },
   "notebookName": "NB4_Load_Fact_Sales",
   "widgets": {}
  },
  "language_info": {
   "name": "python"
  }
 },
 "nbformat": 4,
 "nbformat_minor": 0
}
