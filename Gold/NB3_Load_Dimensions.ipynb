{
 "cells": [
  {
   "cell_type": "markdown",
   "metadata": {
    "application/vnd.databricks.v1+cell": {
     "cellMetadata": {
      "byteLimit": 2048000,
      "rowLimit": 10000
     },
     "inputWidgets": {},
     "nuid": "ddbe0031-5067-4f86-b2b6-36b260ecc6fc",
     "showTitle": false,
     "tableResultSettingsMap": {},
     "title": ""
    }
   },
   "source": [
    "# Parámetros"
   ]
  },
  {
   "cell_type": "code",
   "execution_count": 0,
   "metadata": {
    "application/vnd.databricks.v1+cell": {
     "cellMetadata": {
      "byteLimit": 2048000,
      "rowLimit": 10000
     },
     "inputWidgets": {},
     "nuid": "5da1d5d1-bee0-4683-a0a3-b98d588e22b2",
     "showTitle": false,
     "tableResultSettingsMap": {},
     "title": ""
    }
   },
   "outputs": [],
   "source": [
    "# catalog = \"sales\"\n",
    "# silver_schema = \"sales_silver\"\n",
    "# silver_table = \"sales_curated\"\n",
    "# gold_schema = \"sales_gold\"\n",
    "# dim_product_table = \"dim_product\"\n",
    "# dim_location_table = \"dim_location\"\n",
    "# dim_store_table = \"dim_store\"\n",
    "# dim_seller_table =  \"dim_seller\""
   ]
  },
  {
   "cell_type": "code",
   "execution_count": 0,
   "metadata": {
    "application/vnd.databricks.v1+cell": {
     "cellMetadata": {},
     "inputWidgets": {},
     "nuid": "a0a9cdb5-26b8-46b1-8f79-b7e847023189",
     "showTitle": false,
     "tableResultSettingsMap": {},
     "title": ""
    }
   },
   "outputs": [],
   "source": [
    "#Obtención de los parametros\n",
    "try: \n",
    "    catalog = dbutils.widgets.get(\"catalog\")\n",
    "    silver_schema = dbutils.widgets.get(\"silver_schema\")\n",
    "    silver_table = dbutils.widgets.get(\"silver_table\")\n",
    "    gold_schema = dbutils.widgets.get(\"gold_schema\")\n",
    "    dim_product_table = dbutils.widgets.get(\"dim_product_table\")\n",
    "    dim_location_table = dbutils.widgets.get(\"dim_location_table\")\n",
    "    dim_store_table = dbutils.widgets.get(\"dim_store_table\")\n",
    "    dim_seller_table = dbutils.widgets.get(\"dim_seller_table\")\n",
    "    print(\"Parámetros cargados exitosamente.\")\n",
    "\n",
    "except Exception as e:\n",
    "    print(f\"Error fatal: No se pudieron obtener los parámetros\")\n",
    "    print(f\"Detalle del error: {e}\")\n",
    "    raise Exception(\"Error al obtener parámetros\")\n"
   ]
  },
  {
   "cell_type": "markdown",
   "metadata": {
    "application/vnd.databricks.v1+cell": {
     "cellMetadata": {
      "byteLimit": 2048000,
      "rowLimit": 10000
     },
     "inputWidgets": {},
     "nuid": "7ad83c98-a77e-4d4d-98cb-72a450a5ec85",
     "showTitle": false,
     "tableResultSettingsMap": {},
     "title": ""
    }
   },
   "source": [
    "# Crea tabla Dim_Product si no existe"
   ]
  },
  {
   "cell_type": "code",
   "execution_count": 0,
   "metadata": {
    "application/vnd.databricks.v1+cell": {
     "cellMetadata": {
      "byteLimit": 2048000,
      "rowLimit": 10000
     },
     "inputWidgets": {},
     "nuid": "67044836-4571-453e-a0eb-bddf329c1d32",
     "showTitle": false,
     "tableResultSettingsMap": {},
     "title": ""
    }
   },
   "outputs": [],
   "source": [
    "try:\n",
    "    #Creo la tabla Dim_Product si no existe   \n",
    "    create_query = f\"\"\"\n",
    "    CREATE TABLE IF NOT EXISTS {catalog}.{gold_schema}.{dim_product_table} (\n",
    "        idProduct BIGINT GENERATED ALWAYS AS IDENTITY,\n",
    "        itemno INTEGER,\n",
    "        itemName STRING,\n",
    "        pack INTEGER,\n",
    "        bottle_volume_ml INT,\n",
    "        category STRING,\n",
    "        StoreDay TIMESTAMP\n",
    "    )\n",
    "    USING DELTA\n",
    "    \"\"\"\n",
    "    spark.sql(create_query)\n",
    "    print(f\"Tabla {dim_product_table} asegurada\")\n",
    "\n",
    "except Exception as e:\n",
    "    print(f\"Error fatal: Fallo durante la creación de la tabla {dim_product_table}\")\n",
    "    print(f\"Detalle del error: {e}\")\n",
    "    raise Exception(f\"Error en DDL para {dim_product_table}. Verifique la sintaxis\")"
   ]
  },
  {
   "cell_type": "markdown",
   "metadata": {
    "application/vnd.databricks.v1+cell": {
     "cellMetadata": {
      "byteLimit": 2048000,
      "rowLimit": 10000
     },
     "inputWidgets": {},
     "nuid": "5d691d71-7097-4fec-8eed-b89ef521e827",
     "showTitle": false,
     "tableResultSettingsMap": {},
     "title": ""
    }
   },
   "source": [
    "# Carga de Dim_Product"
   ]
  },
  {
   "cell_type": "code",
   "execution_count": 0,
   "metadata": {
    "application/vnd.databricks.v1+cell": {
     "cellMetadata": {
      "byteLimit": 2048000,
      "rowLimit": 10000
     },
     "inputWidgets": {},
     "nuid": "3e010a59-2773-42ea-8d77-3f4f9ed12813",
     "showTitle": false,
     "tableResultSettingsMap": {},
     "title": ""
    }
   },
   "outputs": [],
   "source": [
    "try:\n",
    "  #Queria de carga de la dimension Dim_Product\n",
    "  merge_query = f\"\"\"\n",
    "  MERGE INTO {catalog}.{gold_schema}.{dim_product_table} AS target\n",
    "  USING (\n",
    "    SELECT * FROM (\n",
    "      SELECT\n",
    "        itemno,\n",
    "        im_desc,\n",
    "        pack,\n",
    "        bottle_volume_ml,\n",
    "        category_name,\n",
    "        ROW_NUMBER() OVER (\n",
    "          PARTITION BY itemno\n",
    "          ORDER BY date DESC\n",
    "        ) AS rn\n",
    "      FROM {catalog}.{silver_schema}.{silver_table})\n",
    "    WHERE rn = 1\n",
    "  ) AS source\n",
    "  ON target.itemno = source.itemno\n",
    "\n",
    "  -- Un producto puede cambiar de nombre, pack, categoria, bottle_volume_ml\n",
    "  WHEN MATCHED AND (target.itemName <> source.im_desc OR target.pack <> source.pack OR target.bottle_volume_ml <> source.bottle_volume_ml OR target.category <> source.category_name) THEN\n",
    "    UPDATE SET\n",
    "      itemName = source.im_desc,\n",
    "      pack = source.pack,\n",
    "      bottle_volume_ml = source.bottle_volume_ml,\n",
    "      category = source.category_name,\n",
    "      StoreDay = current_timestamp()\n",
    "  -- Cuando el producto no se encuentre en la tabla dimensional se lo agrega\n",
    "  WHEN NOT MATCHED THEN\n",
    "    INSERT (itemno, itemName, pack, bottle_volume_ml, category, StoreDay)\n",
    "    VALUES (source.itemno, source.im_desc, source.pack, source.bottle_volume_ml, source.category_name, current_timestamp())\n",
    "  \"\"\"\n",
    "  spark.sql(merge_query)\n",
    "  print(f\"Merge en {dim_product_table} exitoso\")\n",
    "except Exception as e:\n",
    "  print(f\"Error fatal: Fallo durante el MERGE en {dim_product_table}\")\n",
    "  print(f\"Detalle del error: {e}\")\n",
    "  raise Exception(f\"Error en DML para {dim_product_table}. Verifique la subconsulta 'USING' o la lógica del MERGE.\")\n"
   ]
  },
  {
   "cell_type": "markdown",
   "metadata": {
    "application/vnd.databricks.v1+cell": {
     "cellMetadata": {
      "byteLimit": 2048000,
      "rowLimit": 10000
     },
     "inputWidgets": {},
     "nuid": "81605558-5dfa-4fbb-a665-3d8d3c49cbf2",
     "showTitle": false,
     "tableResultSettingsMap": {},
     "title": ""
    }
   },
   "source": [
    "# Crea Dim_Seller si no existe"
   ]
  },
  {
   "cell_type": "code",
   "execution_count": 0,
   "metadata": {
    "application/vnd.databricks.v1+cell": {
     "cellMetadata": {
      "byteLimit": 2048000,
      "rowLimit": 10000
     },
     "inputWidgets": {},
     "nuid": "5f8e00ba-800e-4d33-bb9f-d13991e24faf",
     "showTitle": false,
     "tableResultSettingsMap": {},
     "title": ""
    }
   },
   "outputs": [],
   "source": [
    "try:\n",
    "    #Se crea la tabla Dim_Seller en caso que no exista\n",
    "    create_query = f\"\"\"\n",
    "    CREATE TABLE IF NOT EXISTS {catalog}.{gold_schema}.{dim_seller_table} (\n",
    "        idSeller BIGINT GENERATED ALWAYS AS IDENTITY,\n",
    "        vendor_no INTEGER,\n",
    "        vendor_name STRING,\n",
    "        StoreDay TIMESTAMP\n",
    "    )\n",
    "    USING DELTA\n",
    "    \"\"\"\n",
    "    spark.sql(create_query)\n",
    "    print(f\"Tabla {dim_seller_table} asegurada\")\n",
    "\n",
    "except Exception as e:\n",
    "    print(f\"Error fatal: Fallo durante la creación de la tabla {dim_seller_table}\")\n",
    "    print(f\"Detalle del error: {e}\")\n",
    "    raise Exception(f\"Error en DDL para {dim_seller_table}. Verifique la sintaxis\")"
   ]
  },
  {
   "cell_type": "markdown",
   "metadata": {
    "application/vnd.databricks.v1+cell": {
     "cellMetadata": {
      "byteLimit": 2048000,
      "rowLimit": 10000
     },
     "inputWidgets": {},
     "nuid": "1853a304-f814-4d31-9b75-6c39971f025d",
     "showTitle": false,
     "tableResultSettingsMap": {},
     "title": ""
    }
   },
   "source": [
    "# Carga de Dim_Seller"
   ]
  },
  {
   "cell_type": "code",
   "execution_count": 0,
   "metadata": {
    "application/vnd.databricks.v1+cell": {
     "cellMetadata": {
      "byteLimit": 2048000,
      "rowLimit": 10000
     },
     "inputWidgets": {},
     "nuid": "ca21d35c-12c1-419e-9964-2e070989cbbb",
     "showTitle": false,
     "tableResultSettingsMap": {},
     "title": ""
    }
   },
   "outputs": [],
   "source": [
    "try:\n",
    "  #Cargo la tabla dimensional Dim_Seller\n",
    "  merge_query = f\"\"\"\n",
    "  MERGE INTO {catalog}.{gold_schema}.{dim_seller_table} AS target\n",
    "  USING (\n",
    "    SELECT * FROM (\n",
    "      SELECT\n",
    "        vendor_no,\n",
    "        vendor_name,\n",
    "        ROW_NUMBER() OVER (\n",
    "            PARTITION BY vendor_no\n",
    "            ORDER BY date DESC\n",
    "        ) AS rn\n",
    "      FROM {catalog}.{silver_schema}.{silver_table})\n",
    "    WHERE rn = 1\n",
    "  ) AS source\n",
    "  ON target.vendor_no = source.vendor_no\n",
    "  -- Se considera que el vendedor puede cambiar de nombre\n",
    "  WHEN MATCHED AND (target.vendor_name <> source.vendor_name)THEN\n",
    "    UPDATE SET\n",
    "      vendor_name = source.vendor_name,\n",
    "      StoreDay = current_timestamp()\n",
    "  -- Cuando no se encuentra el identificador de vendedor es agregado a la dimension\n",
    "  WHEN NOT MATCHED THEN\n",
    "    INSERT (vendor_no, vendor_name, StoreDay)\n",
    "    VALUES (source.vendor_no, source.vendor_name, current_timestamp())\n",
    "  \"\"\"\n",
    "  spark.sql(merge_query)\n",
    "  print(f\"Merge en {dim_seller_table} exitoso\")\n",
    "except Exception as e:\n",
    "  print(f\"Error fatal: Fallo durante el MERGE en {dim_seller_table}\")\n",
    "  print(f\"Detalle del error: {e}\")\n",
    "  raise Exception(f\"Error en DML para {dim_seller_table}. Verifique la subconsulta 'USING' o la lógica del MERGE.\")"
   ]
  },
  {
   "cell_type": "markdown",
   "metadata": {
    "application/vnd.databricks.v1+cell": {
     "cellMetadata": {
      "byteLimit": 2048000,
      "rowLimit": 10000
     },
     "inputWidgets": {},
     "nuid": "7aaef62d-054d-46a3-92a2-b51d42777d33",
     "showTitle": false,
     "tableResultSettingsMap": {},
     "title": ""
    }
   },
   "source": [
    "#Crea Dim_Location si no existe"
   ]
  },
  {
   "cell_type": "code",
   "execution_count": 0,
   "metadata": {
    "application/vnd.databricks.v1+cell": {
     "cellMetadata": {
      "byteLimit": 2048000,
      "rowLimit": 10000
     },
     "inputWidgets": {},
     "nuid": "4517d73f-84b9-4646-b172-d6ad6bfecdd1",
     "showTitle": false,
     "tableResultSettingsMap": {},
     "title": ""
    }
   },
   "outputs": [],
   "source": [
    "try:\n",
    "    #Query de creacion de la tabla Dim_Location en caso de que no exista\n",
    "    create_query = f\"\"\"\n",
    "    CREATE TABLE IF NOT EXISTS {catalog}.{gold_schema}.{dim_location_table} (\n",
    "        idLocation BIGINT GENERATED ALWAYS AS IDENTITY,\n",
    "        county STRING,\n",
    "        city STRING,\n",
    "        zipcode STRING,\n",
    "        address STRING,\n",
    "        StoreDay TIMESTAMP\n",
    "    )\n",
    "    USING DELTA\n",
    "    \"\"\"\n",
    "    spark.sql(create_query)\n",
    "    print(f\"Tabla {dim_location_table} asegurada\")\n",
    "\n",
    "except Exception as e:\n",
    "    print(f\"Error fatal: Fallo durante la creación de la tabla {dim_location_table}\")\n",
    "    print(f\"Detalle del error: {e}\")\n",
    "    raise Exception(f\"Error en DDL para {dim_location_table}. Verifique la sintaxis\")"
   ]
  },
  {
   "cell_type": "markdown",
   "metadata": {
    "application/vnd.databricks.v1+cell": {
     "cellMetadata": {
      "byteLimit": 2048000,
      "rowLimit": 10000
     },
     "inputWidgets": {},
     "nuid": "90404f1c-ad33-4625-a53b-be3ae3d9d007",
     "showTitle": false,
     "tableResultSettingsMap": {},
     "title": ""
    }
   },
   "source": [
    "#Carga Dim_Location"
   ]
  },
  {
   "cell_type": "code",
   "execution_count": 0,
   "metadata": {
    "application/vnd.databricks.v1+cell": {
     "cellMetadata": {
      "byteLimit": 2048000,
      "rowLimit": 10000
     },
     "inputWidgets": {},
     "nuid": "bd6b265f-7706-4145-af62-9b07efa143b4",
     "showTitle": false,
     "tableResultSettingsMap": {},
     "title": ""
    }
   },
   "outputs": [],
   "source": [
    "try:\n",
    "  merge_query = f\"\"\"\n",
    "  MERGE INTO {catalog}.{gold_schema}.{dim_location_table} AS target\n",
    "  USING (\n",
    "    SELECT DISTINCT\n",
    "      county,\n",
    "      city,\n",
    "      zipcode,\n",
    "      address\n",
    "    FROM {catalog}.{silver_schema}.{silver_table}\n",
    "  ) AS source\n",
    "  ON target.county = source.county\n",
    "    AND target.city = source.city\n",
    "    AND target.zipcode = source.zipcode\n",
    "    AND target.address = source.address\n",
    "  -- Los registros de la dimension Location no pueden cambiar\n",
    "  WHEN NOT MATCHED THEN\n",
    "    INSERT (county, city, zipcode, address, StoreDay)\n",
    "    VALUES (source.county, source.city, source.zipcode, source.address, current_timestamp())\n",
    "  \"\"\"\n",
    "  spark.sql(merge_query)\n",
    "  print(f\"Merge en {dim_location_table} exitoso\")\n",
    "except Exception as e:\n",
    "  print(f\"Error fatal: Fallo durante el MERGE en {dim_location_table}\")\n",
    "  print(f\"Detalle del error: {e}\")\n",
    "  raise Exception(f\"Error en DML para {dim_location_table}. Verifique la subconsulta 'USING' o la lógica del MERGE.\")"
   ]
  },
  {
   "cell_type": "markdown",
   "metadata": {
    "application/vnd.databricks.v1+cell": {
     "cellMetadata": {
      "byteLimit": 2048000,
      "rowLimit": 10000
     },
     "inputWidgets": {},
     "nuid": "4836c8c7-fa4a-4bf1-a723-d7660faae925",
     "showTitle": false,
     "tableResultSettingsMap": {},
     "title": ""
    }
   },
   "source": [
    "# Crea Dim_Store si no existe"
   ]
  },
  {
   "cell_type": "code",
   "execution_count": 0,
   "metadata": {
    "application/vnd.databricks.v1+cell": {
     "cellMetadata": {
      "byteLimit": 2048000,
      "rowLimit": 10000
     },
     "inputWidgets": {},
     "nuid": "68ec858e-c092-432e-986f-975d11fd882d",
     "showTitle": false,
     "tableResultSettingsMap": {},
     "title": ""
    }
   },
   "outputs": [],
   "source": [
    "try:\n",
    "    #Creacion de la tabla dimensional dim_store en caso de que no exista\n",
    "    create_query = f\"\"\"\n",
    "    CREATE TABLE IF NOT EXISTS {catalog}.{gold_schema}.{dim_store_table} (\n",
    "        idStore BIGINT GENERATED ALWAYS AS IDENTITY,\n",
    "        idLocation BIGINT,\n",
    "        store_number INTEGER,\n",
    "        store_name STRING,\n",
    "        StoreDay TIMESTAMP\n",
    "    )\n",
    "    USING DELTA\n",
    "    \"\"\"\n",
    "    spark.sql(create_query)\n",
    "    print(f\"Tabla {dim_store_table} asegurada\")\n",
    "except Exception as e:\n",
    "    print(f\"Error fatal: Fallo durante la creación de la tabla {dim_store_table}\")\n",
    "    print(f\"Detalle del error: {e}\")\n",
    "    raise Exception(f\"Error en DDL para {dim_store_table}. Verifique la sintaxis\")"
   ]
  },
  {
   "cell_type": "markdown",
   "metadata": {
    "application/vnd.databricks.v1+cell": {
     "cellMetadata": {
      "byteLimit": 2048000,
      "rowLimit": 10000
     },
     "inputWidgets": {},
     "nuid": "4626a29d-bc97-4496-b93f-615afed391e7",
     "showTitle": false,
     "tableResultSettingsMap": {},
     "title": ""
    }
   },
   "source": [
    "# Carga Dim_Store"
   ]
  },
  {
   "cell_type": "code",
   "execution_count": 0,
   "metadata": {
    "application/vnd.databricks.v1+cell": {
     "cellMetadata": {
      "byteLimit": 2048000,
      "rowLimit": 10000
     },
     "inputWidgets": {},
     "nuid": "9a745ab9-c4d5-4377-876c-a7550146a4bb",
     "showTitle": false,
     "tableResultSettingsMap": {},
     "title": ""
    }
   },
   "outputs": [],
   "source": [
    "try:\n",
    "  merge_query = f\"\"\"\n",
    "  MERGE INTO {catalog}.{gold_schema}.{dim_store_table} AS target\n",
    "  USING (\n",
    "    SELECT * FROM (\n",
    "      SELECT\n",
    "        location.idLocation,\n",
    "        store.store_name,\n",
    "        store.store_number,\n",
    "        ROW_NUMBER() OVER (\n",
    "          PARTITION BY store.store_number\n",
    "          ORDER BY store.date DESC\n",
    "        ) AS rn\n",
    "      FROM {catalog}.{silver_schema}.{silver_table} AS store\n",
    "      -- Se rescata el id de dim_location\n",
    "      INNER JOIN {catalog}.{gold_schema}.{dim_location_table} AS location\n",
    "        ON store.county = location.county\n",
    "        AND store.city = location.city\n",
    "        AND store.zipcode = location.zipcode\n",
    "        AND store.address = location.address)\n",
    "    WHERE rn = 1\n",
    "    \n",
    "  ) AS source\n",
    "  ON target.store_number = source.store_number\n",
    "\n",
    "  -- Se considera que el nombre y la ubicacion de la tienda puede cambiar\n",
    "  WHEN MATCHED AND (target.store_name <> source.store_name OR target.idLocation <> source.idLocation) THEN\n",
    "    UPDATE SET\n",
    "      store_name = source.store_name,\n",
    "      idLocation = source.idLocation,\n",
    "      StoreDay = current_timestamp()\n",
    "  -- Cuando no haya coincidencia por clave natural se inserta el registro\n",
    "  WHEN NOT MATCHED THEN\n",
    "    INSERT (idLocation, store_number, store_name, StoreDay)\n",
    "    VALUES (source.idLocation, source.store_number, source.store_name, current_timestamp())\n",
    "  \"\"\"\n",
    "  spark.sql(merge_query)\n",
    "  print(f\"Merge en {dim_store_table} exitoso\")\n",
    "except Exception as e:\n",
    "  print(f\"Error fatal: Fallo durante el MERGE en {dim_store_table}\")\n",
    "  print(f\"Detalle del error: {e}\")\n",
    "  raise Exception(f\"Error en DML para {dim_store_table}. Verifique la subconsulta 'USING' (incluyendo el JOIN con {dim_location_table}) o la lógica del MERGE.\")\n",
    "\n"
   ]
  }
 ],
 "metadata": {
  "application/vnd.databricks.v1+notebook": {
   "computePreferences": null,
   "dashboards": [],
   "environmentMetadata": {
    "base_environment": "",
    "environment_version": "4"
   },
   "inputWidgetPreferences": null,
   "language": "python",
   "notebookMetadata": {
    "mostRecentlyExecutedCommandWithImplicitDF": {
     "commandId": 5432959710796398,
     "dataframes": [
      "_sqldf"
     ]
    },
    "pythonIndentUnit": 4
   },
   "notebookName": "NB3_Load_Dimensions",
   "widgets": {}
  },
  "language_info": {
   "name": "python"
  }
 },
 "nbformat": 4,
 "nbformat_minor": 0
}
