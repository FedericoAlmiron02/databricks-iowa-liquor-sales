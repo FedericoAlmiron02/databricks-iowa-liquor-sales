{
 "cells": [
  {
   "cell_type": "markdown",
   "metadata": {
    "application/vnd.databricks.v1+cell": {
     "cellMetadata": {},
     "inputWidgets": {},
     "nuid": "6e743409-fa21-4fe0-870c-d8d7e42f907d",
     "showTitle": false,
     "tableResultSettingsMap": {},
     "title": ""
    }
   },
   "source": [
    "# Análisis de Rendimiento y Tendencias de Ventas"
   ]
  },
  {
   "cell_type": "markdown",
   "metadata": {
    "application/vnd.databricks.v1+cell": {
     "cellMetadata": {},
     "inputWidgets": {},
     "nuid": "56b71333-6b13-4da7-80ab-2e7413cf1ab7",
     "showTitle": false,
     "tableResultSettingsMap": {},
     "title": ""
    }
   },
   "source": [
    "## Tendencias Temporales: Analizar el crecimiento o decrecimiento de las ventas (sale_dollars) por día, mes o año."
   ]
  },
  {
   "cell_type": "markdown",
   "metadata": {
    "application/vnd.databricks.v1+cell": {
     "cellMetadata": {},
     "inputWidgets": {},
     "nuid": "1b5322d9-6b34-4fd1-b286-1e5279da40ea",
     "showTitle": false,
     "tableResultSettingsMap": {},
     "title": ""
    }
   },
   "source": [
    "### Por día"
   ]
  },
  {
   "cell_type": "code",
   "execution_count": 0,
   "metadata": {
    "application/vnd.databricks.v1+cell": {
     "cellMetadata": {
      "byteLimit": 2048000,
      "implicitDf": true,
      "rowLimit": 10000
     },
     "inputWidgets": {},
     "nuid": "94011ff6-f237-49d9-98d4-5d22a8cd5549",
     "showTitle": false,
     "tableResultSettingsMap": {},
     "title": ""
    }
   },
   "outputs": [],
   "source": [
    "%sql\n",
    "-- Calculo de la diferencia (crecimiento/decrecimiento) usando LAG por día\n",
    "SELECT\n",
    "  date,\n",
    "  total_sales,\n",
    "  previous_day_sales,\n",
    "  daily_growth_or_decrease\n",
    "FROM (\n",
    "  SELECT\n",
    "    date,\n",
    "    total_sales,\n",
    "    -- Obtiene el valor de 'total_sales' de la fila anterior (día anterior)\n",
    "    LAG(total_sales, 1, 0) OVER (ORDER BY date) AS previous_day_sales,\n",
    "     -- Calcula la diferencia\n",
    "    ROUND(total_sales - LAG(total_sales, 1, 0) OVER (ORDER BY date), 2) AS daily_growth_or_decrease\n",
    "  FROM (\n",
    "    -- Obtener el total de ventas por día\n",
    "    SELECT\n",
    "      d.date,\n",
    "      ROUND(SUM(f.sale_dollars), 2) AS total_sales\n",
    "    FROM\n",
    "      sales.sales_gold.fact_sales AS f\n",
    "    INNER JOIN\n",
    "      sales.sales_gold.dim_time AS d ON f.idDate = d.dateId\n",
    "    GROUP BY\n",
    "      d.date\n",
    "  ) AS daily_sales\n",
    ") AS analysis_with_lag\n",
    "\n",
    "-- AGREGA EL FILTRO AQUÍ --\n",
    "--WHERE date = '2021-09-23'  -- Reemplaza con la fecha que deseas analizar\n",
    "\n",
    "ORDER BY\n",
    "  date DESC;"
   ]
  },
  {
   "cell_type": "markdown",
   "metadata": {
    "application/vnd.databricks.v1+cell": {
     "cellMetadata": {},
     "inputWidgets": {},
     "nuid": "5b6a17fd-cf28-4a39-b928-d8497aefc21b",
     "showTitle": false,
     "tableResultSettingsMap": {},
     "title": ""
    }
   },
   "source": [
    "Esta consulta devuelve las ventas totales del día actual, ventas totales del día anterior y aumento/disminución del volumen de ventas del día actual con respecto al día anterior, ordenado por día. De querer analizar un día específico se debe introducir una fecha válida en la claúsula WHERE comentada."
   ]
  },
  {
   "cell_type": "markdown",
   "metadata": {
    "application/vnd.databricks.v1+cell": {
     "cellMetadata": {},
     "inputWidgets": {},
     "nuid": "bae6153d-8544-4020-9f4c-db0f42478dd7",
     "showTitle": false,
     "tableResultSettingsMap": {},
     "title": ""
    }
   },
   "source": [
    "### Por mes"
   ]
  },
  {
   "cell_type": "code",
   "execution_count": 0,
   "metadata": {
    "application/vnd.databricks.v1+cell": {
     "cellMetadata": {
      "byteLimit": 2048000,
      "implicitDf": true,
      "rowLimit": 10000
     },
     "inputWidgets": {},
     "nuid": "3b845e32-3274-4455-800d-4e298083256b",
     "showTitle": false,
     "tableResultSettingsMap": {},
     "title": ""
    }
   },
   "outputs": [],
   "source": [
    "%sql\n",
    "-- Aplicar el filtro de mes/año\n",
    "SELECT *\n",
    "FROM (\n",
    "  -- Calcular el LAG sobre TODOS los meses\n",
    "  SELECT\n",
    "    monthly_sales.year,\n",
    "    monthly_sales.month,\n",
    "    monthly_sales.month_name,\n",
    "    monthly_sales.total_sales,\n",
    "    \n",
    "    -- Obtiene el valor de 'total_sales' de la fila anterior (ordenada por fecha)\n",
    "    LAG(total_sales, 1, 0) OVER (ORDER BY year, month) AS previous_month_sales,\n",
    "    \n",
    "    -- Calcula la diferencia\n",
    "    ROUND(total_sales - LAG(total_sales, 1, 0) OVER (ORDER BY year, month), 2) AS monthly_growth_or_decrease\n",
    "    \n",
    "  FROM (\n",
    "    -- Obtener el total de ventas por mes\n",
    "    SELECT\n",
    "      d.year,\n",
    "      d.month,\n",
    "      d.month_name,\n",
    "      round(SUM(f.sale_dollars), 2) AS total_sales\n",
    "    FROM\n",
    "      sales.sales_gold.fact_sales AS f\n",
    "    INNER JOIN\n",
    "      sales.sales_gold.dim_time AS d ON f.idDate = d.dateId\n",
    "    GROUP BY\n",
    "      d.year,\n",
    "      d.month,\n",
    "      d.month_name\n",
    "  ) AS monthly_sales\n",
    "\n",
    ") AS analysis_with_lag -- Esta es la tabla con TODOS los meses y sus LAGs calculados\n",
    "\n",
    "--WHERE analysis_with_lag.year = 2020 AND analysis_with_lag.month = 8  -- Reemplaza con el año y mes (número)\n",
    "\n",
    "ORDER BY\n",
    "  analysis_with_lag.year DESC,\n",
    "  analysis_with_lag.month DESC;"
   ]
  },
  {
   "cell_type": "markdown",
   "metadata": {
    "application/vnd.databricks.v1+cell": {
     "cellMetadata": {},
     "inputWidgets": {},
     "nuid": "6b36dff7-817b-4221-877d-f8ba2087f96e",
     "showTitle": false,
     "tableResultSettingsMap": {},
     "title": ""
    }
   },
   "source": [
    "Esta consulta devuelve las ventas totales de un mes en un año determinado, ventas totales del mes anterior y aumento/disminución del volumen de ventas del mes actual con respecto al mes anterior, ordenados por año-mes. De querer analizar un mes de un año específico se debe introducir un año y un mes(valor númerico) en la claúsula WHERE comentada."
   ]
  },
  {
   "cell_type": "markdown",
   "metadata": {
    "application/vnd.databricks.v1+cell": {
     "cellMetadata": {},
     "inputWidgets": {},
     "nuid": "5b16ad5e-0c4c-4847-a0bb-99cfdc4a0193",
     "showTitle": false,
     "tableResultSettingsMap": {},
     "title": ""
    }
   },
   "source": [
    "### Por año"
   ]
  },
  {
   "cell_type": "code",
   "execution_count": 0,
   "metadata": {
    "application/vnd.databricks.v1+cell": {
     "cellMetadata": {
      "byteLimit": 2048000,
      "implicitDf": true,
      "rowLimit": 10000
     },
     "inputWidgets": {},
     "nuid": "d766e102-3875-40c8-a6f9-5ee7d405cef0",
     "showTitle": false,
     "tableResultSettingsMap": {},
     "title": ""
    }
   },
   "outputs": [],
   "source": [
    "%sql\n",
    "-- Aplicar el filtro de año\n",
    "SELECT *\n",
    "FROM (\n",
    "\n",
    "  -- Calcular el LAG sobre TODOS los años (tu query original)\n",
    "  SELECT\n",
    "    year,\n",
    "    total_sales,\n",
    "    \n",
    "    -- Obtiene el valor de 'total_sales' de la fila anterior (año anterior)\n",
    "    LAG(total_sales, 1, 0) OVER (ORDER BY year) AS previous_year_sales,\n",
    "    \n",
    "    -- Calcula la diferencia\n",
    "    ROUND(total_sales - LAG(total_sales, 1, 0) OVER (ORDER BY year), 2) AS yearly_growth_or_decrease\n",
    "    \n",
    "  FROM (\n",
    "    -- Obtener el total de ventas por año\n",
    "    SELECT\n",
    "      d.year,\n",
    "      ROUND(SUM(f.sale_dollars), 2) AS total_sales\n",
    "    FROM\n",
    "      sales.sales_gold.fact_sales AS f\n",
    "    INNER JOIN\n",
    "      sales.sales_gold.dim_time AS d ON f.idDate = d.dateId\n",
    "    GROUP BY\n",
    "      d.year\n",
    "  ) AS yearly_sales\n",
    "\n",
    ") AS analysis_with_lag -- Esta es la tabla con TODOS los años y sus LAGs calculados\n",
    "\n",
    "-- Filtro por año en específico\n",
    "--WHERE analysis_with_lag.year = 2021  -- Reemplaza con el año que deseas analizar\n",
    "\n",
    "ORDER BY\n",
    "  year DESC;"
   ]
  },
  {
   "cell_type": "markdown",
   "metadata": {
    "application/vnd.databricks.v1+cell": {
     "cellMetadata": {},
     "inputWidgets": {},
     "nuid": "a9d5c28b-b3c4-4743-ba87-ee42eeee2d6c",
     "showTitle": false,
     "tableResultSettingsMap": {},
     "title": ""
    }
   },
   "source": [
    "Esta consulta devuelve las ventas totales de año determinado, ventas totales del año anterior y aumento/disminución del volumen de ventas del año actual con respecto al año anterior, ordenados por año. De querer analizar un año específico se debe introducir el año en la claúsula WHERE comentada."
   ]
  },
  {
   "cell_type": "markdown",
   "metadata": {
    "application/vnd.databricks.v1+cell": {
     "cellMetadata": {},
     "inputWidgets": {},
     "nuid": "bb4a3eff-398b-4119-80a4-fe26b3ddab49",
     "showTitle": false,
     "tableResultSettingsMap": {},
     "title": ""
    }
   },
   "source": [
    "## Ranking de Puntos de Venta: Determinar las tiendas y condados con mayores volúmenes de venta."
   ]
  },
  {
   "cell_type": "markdown",
   "metadata": {
    "application/vnd.databricks.v1+cell": {
     "cellMetadata": {},
     "inputWidgets": {},
     "nuid": "bc197e55-a347-47f5-884f-d5f37df621cd",
     "showTitle": false,
     "tableResultSettingsMap": {},
     "title": ""
    }
   },
   "source": [
    "### Tiendas con mayores volúmenes de venta"
   ]
  },
  {
   "cell_type": "code",
   "execution_count": 0,
   "metadata": {
    "application/vnd.databricks.v1+cell": {
     "cellMetadata": {
      "byteLimit": 2048000,
      "implicitDf": true,
      "rowLimit": 10000
     },
     "inputWidgets": {},
     "nuid": "33a4566d-818a-43f7-ac61-4f08f17a7989",
     "showTitle": false,
     "tableResultSettingsMap": {
      "0": {
       "dataGridStateBlob": "{\"version\":1,\"tableState\":{\"columnPinning\":{\"left\":[\"#row_number#\"],\"right\":[]},\"columnSizing\":{},\"columnVisibility\":{}},\"settings\":{\"columns\":{}},\"syncTimestamp\":1761364583607}",
       "filterBlob": null,
       "queryPlanFiltersBlob": null,
       "tableResultIndex": 0
      }
     },
     "title": ""
    }
   },
   "outputs": [],
   "source": [
    "%sql\n",
    "SELECT\n",
    "  s.store_number,\n",
    "  s.store_name,\n",
    "  ROUND(SUM(f.sale_dollars), 2) AS total_sales\n",
    "FROM\n",
    "  sales.sales_gold.fact_sales AS f\n",
    "INNER JOIN\n",
    "  sales.sales_gold.dim_store AS s ON f.idStore = s.idStore\n",
    "GROUP BY\n",
    "  s.store_number,\n",
    "  s.store_name\n",
    "ORDER BY\n",
    "  total_sales DESC\n",
    "LIMIT 10;"
   ]
  },
  {
   "cell_type": "markdown",
   "metadata": {
    "application/vnd.databricks.v1+cell": {
     "cellMetadata": {},
     "inputWidgets": {},
     "nuid": "eefc81ed-4714-4ced-8fb1-d1152aa2b6bd",
     "showTitle": false,
     "tableResultSettingsMap": {},
     "title": ""
    }
   },
   "source": [
    "En esta consulta se puede visualizar el número de tienda, nombre y total de ventas de las 10 tiendas con mayor volumen de venta histórico, ordenados por volumen de ventas en forma descendente.\n",
    "De querer agrandar o disminuir la lista se debe manipular el valor de LIMIT."
   ]
  },
  {
   "cell_type": "markdown",
   "metadata": {
    "application/vnd.databricks.v1+cell": {
     "cellMetadata": {},
     "inputWidgets": {},
     "nuid": "28054374-bc1d-41c1-bc87-976e822f3ce9",
     "showTitle": false,
     "tableResultSettingsMap": {},
     "title": ""
    }
   },
   "source": [
    "### Condados con mayores volúmenes de venta"
   ]
  },
  {
   "cell_type": "code",
   "execution_count": 0,
   "metadata": {
    "application/vnd.databricks.v1+cell": {
     "cellMetadata": {
      "byteLimit": 2048000,
      "implicitDf": true,
      "rowLimit": 10000
     },
     "inputWidgets": {},
     "nuid": "fff6aa6e-c32c-4ade-bfac-c993cf6d6cd7",
     "showTitle": false,
     "tableResultSettingsMap": {},
     "title": ""
    }
   },
   "outputs": [],
   "source": [
    "%sql\n",
    "SELECT\n",
    "  l.county,\n",
    "  ROUND(SUM(f.sale_dollars), 2) AS total_sales\n",
    "FROM\n",
    "  sales.sales_gold.fact_sales AS f\n",
    "INNER JOIN\n",
    "  sales.sales_gold.dim_store AS s ON f.idStore = s.idStore\n",
    "INNER JOIN\n",
    "  sales.sales_gold.dim_location AS l ON s.idLocation = l.idLocation\n",
    "GROUP BY\n",
    "  l.county\n",
    "ORDER BY\n",
    "  total_sales DESC\n",
    "LIMIT 10;"
   ]
  },
  {
   "cell_type": "markdown",
   "metadata": {
    "application/vnd.databricks.v1+cell": {
     "cellMetadata": {},
     "inputWidgets": {},
     "nuid": "ba9eb8a4-273e-4e9b-b62d-82606b3de7e7",
     "showTitle": false,
     "tableResultSettingsMap": {},
     "title": ""
    }
   },
   "source": [
    "En esta consulta se puede visualizar el nombre del condado y total de ventas de los 10 condados con mayor volumen de venta histórico, ordenados por volumen de ventas en forma descendente.\n",
    "De querer agrandar o disminuir la lista se debe manipular el valor de LIMIT."
   ]
  },
  {
   "cell_type": "markdown",
   "metadata": {
    "application/vnd.databricks.v1+cell": {
     "cellMetadata": {},
     "inputWidgets": {},
     "nuid": "30873946-3f0e-4588-8ac5-045e9f3a3a68",
     "showTitle": false,
     "tableResultSettingsMap": {},
     "title": ""
    }
   },
   "source": [
    "## Comportamiento de Categorías: Identificar las categorías de productos (category_name) más vendidas y las de mayor crecimiento."
   ]
  },
  {
   "cell_type": "markdown",
   "metadata": {
    "application/vnd.databricks.v1+cell": {
     "cellMetadata": {},
     "inputWidgets": {},
     "nuid": "662951ff-d7d6-4e49-84af-da305c0c038b",
     "showTitle": false,
     "tableResultSettingsMap": {},
     "title": ""
    }
   },
   "source": [
    "### Categorías más vendidas"
   ]
  },
  {
   "cell_type": "code",
   "execution_count": 0,
   "metadata": {
    "application/vnd.databricks.v1+cell": {
     "cellMetadata": {
      "byteLimit": 2048000,
      "implicitDf": true,
      "rowLimit": 10000
     },
     "inputWidgets": {},
     "nuid": "e3fe7094-9296-4ed0-97e3-4ad243532af1",
     "showTitle": false,
     "tableResultSettingsMap": {},
     "title": ""
    }
   },
   "outputs": [],
   "source": [
    "%sql\n",
    "SELECT\n",
    "  p.category,\n",
    "  ROUND(SUM(f.sale_dollars), 2) AS total_sales\n",
    "FROM\n",
    "  sales.sales_gold.fact_sales AS f\n",
    "INNER JOIN\n",
    "  sales.sales_gold.dim_product AS p ON f.idProduct = p.idProduct\n",
    "GROUP BY\n",
    "  p.category\n",
    "ORDER BY\n",
    "  total_sales DESC\n",
    "LIMIT 10;"
   ]
  },
  {
   "cell_type": "markdown",
   "metadata": {
    "application/vnd.databricks.v1+cell": {
     "cellMetadata": {},
     "inputWidgets": {},
     "nuid": "626eab4e-fcfa-4b86-825c-3bbad8f5bfd5",
     "showTitle": false,
     "tableResultSettingsMap": {},
     "title": ""
    }
   },
   "source": [
    "En esta consulta se puede visualizar el nombre de categoría y total de ventas de las 10 categorías con mayor volumen de venta histórico, ordenados por volumen de ventas en forma descendente.\n",
    "De querer agrandar o disminuir la lista se debe manipular el valor de LIMIT."
   ]
  },
  {
   "cell_type": "markdown",
   "metadata": {
    "application/vnd.databricks.v1+cell": {
     "cellMetadata": {},
     "inputWidgets": {},
     "nuid": "be220011-673e-4290-8223-8f7c0f585083",
     "showTitle": false,
     "tableResultSettingsMap": {},
     "title": ""
    }
   },
   "source": [
    "### Categorías de mayor crecimiento (interanual)"
   ]
  },
  {
   "cell_type": "code",
   "execution_count": 0,
   "metadata": {
    "application/vnd.databricks.v1+cell": {
     "cellMetadata": {
      "byteLimit": 2048000,
      "implicitDf": true,
      "rowLimit": 10000
     },
     "inputWidgets": {},
     "nuid": "825aa75c-e90c-46ae-91d5-89f5961102aa",
     "showTitle": false,
     "tableResultSettingsMap": {},
     "title": ""
    }
   },
   "outputs": [],
   "source": [
    "%sql\n",
    "-- Calcular el crecimiento y ordenar\n",
    "SELECT\n",
    "  year,\n",
    "  category,\n",
    "  yearly_sales,\n",
    "  previous_year_sales,\n",
    "  -- Crecimiento absoluto en dólares\n",
    "  ROUND(yearly_sales - previous_year_sales, 2) AS absolute_growth,\n",
    "  \n",
    "  -- Crecimiento porcentual (evitando división por cero)\n",
    "  CASE\n",
    "    WHEN previous_year_sales > 0 \n",
    "    THEN ROUND((yearly_sales - previous_year_sales) / previous_year_sales * 100, 2)\n",
    "    ELSE NULL\n",
    "  END AS percentage_growth_pct\n",
    "  \n",
    "FROM (\n",
    "  --  Usar LAG para obtener las ventas del año anterior para CADA categoría\n",
    "  SELECT\n",
    "    year,\n",
    "    category,\n",
    "    yearly_sales,\n",
    "    LAG(yearly_sales, 1, 0) OVER (PARTITION BY category ORDER BY year) AS previous_year_sales\n",
    "  FROM (\n",
    "    --  Obtener el total de ventas por categoría y año\n",
    "    SELECT\n",
    "      d.year,\n",
    "      p.category,\n",
    "      ROUND(SUM(f.sale_dollars), 2) AS yearly_sales\n",
    "    FROM\n",
    "      sales.sales_gold.fact_sales AS f\n",
    "    INNER JOIN\n",
    "      sales.sales_gold.dim_product AS p ON f.idProduct = p.idProduct\n",
    "    INNER JOIN\n",
    "      sales.sales_gold.dim_time AS d ON f.idDate = d.dateId\n",
    "    GROUP BY\n",
    "      d.year,\n",
    "      p.category\n",
    "  ) AS sales_by_year\n",
    ") AS sales_with_lag\n",
    "\n",
    "-- Ordenar para ver el mayor crecimiento en el año más reciente\n",
    "ORDER BY\n",
    "  percentage_growth_pct DESC, absolute_growth DESC\n",
    "LIMIT 10;"
   ]
  },
  {
   "cell_type": "markdown",
   "metadata": {
    "application/vnd.databricks.v1+cell": {
     "cellMetadata": {},
     "inputWidgets": {},
     "nuid": "7a43721d-f2a2-4d8b-bcd3-27586c322dee",
     "showTitle": false,
     "tableResultSettingsMap": {},
     "title": ""
    }
   },
   "source": [
    "En esta consulta se puede visualizar el desempeño en volumen de ventas de una determinada categoría en un determinado año con respecto al año anterior, en conjunto de metricas como crecimiento absoluto y crecimiento porcentual con respecto al desempeño del año anterior.\n",
    "Por lo tanto, se visualizan las 10 categorías que tuvieron un mayor crecimiento de un año a otro. Ordenadas por crecimiento porcentual en conjunto con el crecimiento absoluto."
   ]
  },
  {
   "cell_type": "markdown",
   "metadata": {
    "application/vnd.databricks.v1+cell": {
     "cellMetadata": {},
     "inputWidgets": {},
     "nuid": "9a1f531e-5de9-4779-be3e-aaeca6d8a880",
     "showTitle": false,
     "tableResultSettingsMap": {},
     "title": ""
    }
   },
   "source": [
    "# Análisis de Rentabilidad (Gross Margin)"
   ]
  },
  {
   "cell_type": "markdown",
   "metadata": {
    "application/vnd.databricks.v1+cell": {
     "cellMetadata": {},
     "inputWidgets": {},
     "nuid": "56887213-1a81-489d-8922-ee11e7be28e0",
     "showTitle": false,
     "tableResultSettingsMap": {},
     "title": ""
    }
   },
   "source": [
    "## Cálculo de Margen"
   ]
  },
  {
   "cell_type": "markdown",
   "metadata": {
    "application/vnd.databricks.v1+cell": {
     "cellMetadata": {},
     "inputWidgets": {},
     "nuid": "e031ca66-debe-43cb-8396-2d550ada1a0d",
     "showTitle": false,
     "tableResultSettingsMap": {},
     "title": ""
    }
   },
   "source": [
    "### Margen de beneficio bruto por artículo"
   ]
  },
  {
   "cell_type": "code",
   "execution_count": 0,
   "metadata": {
    "application/vnd.databricks.v1+cell": {
     "cellMetadata": {
      "byteLimit": 2048000,
      "implicitDf": true,
      "rowLimit": 10000
     },
     "inputWidgets": {},
     "nuid": "47c64c5f-9e69-4737-a23a-9aea211502fa",
     "showTitle": false,
     "tableResultSettingsMap": {
      "0": {
       "dataGridStateBlob": "{\"version\":1,\"tableState\":{\"columnPinning\":{\"left\":[\"#row_number#\"],\"right\":[]},\"columnSizing\":{},\"columnVisibility\":{}},\"settings\":{\"columns\":{}},\"syncTimestamp\":1761317246504}",
       "filterBlob": null,
       "queryPlanFiltersBlob": null,
       "tableResultIndex": 0
      }
     },
     "title": ""
    }
   },
   "outputs": [],
   "source": [
    "%sql\n",
    "SELECT\n",
    "  p.itemno,\n",
    "  p.itemName,\n",
    "  ROUND(AVG(f.state_bottle_retail), 2) AS avg_retail_price,\n",
    "  ROUND(AVG(f.state_bottle_cost), 2) AS avg_cost,\n",
    "  -- Margen en dólares (por botella)\n",
    "  ROUND(AVG(f.state_bottle_retail) - AVG(f.state_bottle_cost), 2) AS avg_margin_dollars_per_bottle,\n",
    "  -- Margen porcentual (por botella)\n",
    "  ROUND(((AVG(f.state_bottle_retail) - AVG(f.state_bottle_cost)) / AVG(f.state_bottle_retail)) * 100, 2) AS avg_margin_pct_per_bottle\n",
    "\n",
    "FROM\n",
    "  sales.sales_gold.fact_sales AS f\n",
    "INNER JOIN\n",
    "  sales.sales_gold.dim_product AS p ON f.idProduct = p.idProduct\n",
    "GROUP BY\n",
    "  p.itemno,\n",
    "  p.itemName\n",
    "ORDER BY\n",
    "  avg_margin_dollars_per_bottle DESC;"
   ]
  },
  {
   "cell_type": "markdown",
   "metadata": {
    "application/vnd.databricks.v1+cell": {
     "cellMetadata": {},
     "inputWidgets": {},
     "nuid": "6b558b16-7534-4202-ab84-055527b1cd83",
     "showTitle": false,
     "tableResultSettingsMap": {},
     "title": ""
    }
   },
   "source": [
    "En esta consulta se puede visualizar el itemno y nombre de cada producto, junto con su precio de venta promedio y costo promedio.\n",
    "Adicionalmente, calcula el margen de beneficio promedio por cada botella vendida, tanto en dólares como en porcentaje.\n",
    "Los resultados están ordenados por el margen en dólares en forma descendente, mostrando los productos más rentables (en dólares por botella) primero."
   ]
  },
  {
   "cell_type": "markdown",
   "metadata": {
    "application/vnd.databricks.v1+cell": {
     "cellMetadata": {},
     "inputWidgets": {},
     "nuid": "bdb667be-abcf-412e-bc8e-b3c43b0b6078",
     "showTitle": false,
     "tableResultSettingsMap": {},
     "title": ""
    }
   },
   "source": [
    "### Margen de beneficio bruto por categoría"
   ]
  },
  {
   "cell_type": "code",
   "execution_count": 0,
   "metadata": {
    "application/vnd.databricks.v1+cell": {
     "cellMetadata": {
      "byteLimit": 2048000,
      "implicitDf": true,
      "rowLimit": 10000
     },
     "inputWidgets": {},
     "nuid": "630d5b25-04f5-4c28-bc72-290e1ac3b357",
     "showTitle": false,
     "tableResultSettingsMap": {
      "0": {
       "dataGridStateBlob": "{\"version\":1,\"tableState\":{\"columnPinning\":{\"left\":[\"#row_number#\"],\"right\":[]},\"columnSizing\":{},\"columnVisibility\":{}},\"settings\":{\"columns\":{}},\"syncTimestamp\":1761422349663}",
       "filterBlob": null,
       "queryPlanFiltersBlob": null,
       "tableResultIndex": 0
      }
     },
     "title": ""
    }
   },
   "outputs": [],
   "source": [
    "%sql\n",
    "SELECT\n",
    "  p.category,\n",
    "  ROUND(SUM(f.sale_dollars), 2) AS total_revenue,\n",
    "  ROUND(SUM(f.total_cost), 2) AS total_cost,\n",
    "  \n",
    "  -- Margen bruto total en dólares\n",
    "  ROUND(SUM(f.sale_dollars) - SUM(f.total_cost), 2) AS total_gross_margin_dollars,\n",
    "  \n",
    "  -- Margen bruto porcentual total\n",
    "  ROUND(((SUM(f.sale_dollars) - SUM(f.total_cost)) / SUM(f.sale_dollars)) * 100, 2) AS total_gross_margin_percent\n",
    "\n",
    "FROM\n",
    "  sales.sales_gold.fact_sales AS f\n",
    "JOIN\n",
    "  sales.sales_gold.dim_product AS p ON f.idProduct = p.idProduct\n",
    "GROUP BY\n",
    "  p.category\n",
    "ORDER BY\n",
    "  total_gross_margin_dollars DESC;"
   ]
  },
  {
   "cell_type": "markdown",
   "metadata": {
    "application/vnd.databricks.v1+cell": {
     "cellMetadata": {},
     "inputWidgets": {},
     "nuid": "66d55b5a-d267-4886-9fad-c3ea4a2f7bfb",
     "showTitle": false,
     "tableResultSettingsMap": {},
     "title": ""
    }
   },
   "source": [
    "En esta consulta se visualiza la rentabilidad de cada categoría de producto.\n",
    "La consulta calcula los ingresos totales, el costo total y el margen de beneficio bruto total para cada categoría, mostrando el resultado tanto en dólares como en porcentaje.\n",
    "Los resultados están ordenados por el margen en dólares en forma descendente, mostrando las categorías más rentables primero."
   ]
  },
  {
   "cell_type": "markdown",
   "metadata": {
    "application/vnd.databricks.v1+cell": {
     "cellMetadata": {},
     "inputWidgets": {},
     "nuid": "ed933389-01ce-453b-b0df-a891f463294a",
     "showTitle": false,
     "tableResultSettingsMap": {},
     "title": ""
    }
   },
   "source": [
    "### Margen de beneficio bruto por vendedor"
   ]
  },
  {
   "cell_type": "code",
   "execution_count": 0,
   "metadata": {
    "application/vnd.databricks.v1+cell": {
     "cellMetadata": {
      "byteLimit": 2048000,
      "implicitDf": true,
      "rowLimit": 10000
     },
     "inputWidgets": {},
     "nuid": "5ed49671-52c2-4574-84cc-912d8feb9730",
     "showTitle": false,
     "tableResultSettingsMap": {},
     "title": ""
    }
   },
   "outputs": [],
   "source": [
    "%sql\n",
    "SELECT\n",
    "  s.vendor_no,\n",
    "  ROUND(SUM(f.sale_dollars), 2) AS total_revenue,\n",
    "  ROUND(SUM(f.total_cost), 2) AS total_cost,\n",
    "  \n",
    "  -- Margen bruto total en dólares\n",
    "  ROUND(SUM(f.sale_dollars) - SUM(f.total_cost), 2) AS total_gross_margin_dollars,\n",
    "  \n",
    "  -- Margen bruto porcentual total\n",
    "  ROUND(((SUM(f.sale_dollars) - SUM(f.total_cost)) / SUM(f.sale_dollars)) * 100, 2) AS total_gross_margin_percent\n",
    "\n",
    "FROM\n",
    "  sales.sales_gold.fact_sales AS f\n",
    "JOIN\n",
    "  sales.sales_gold.dim_seller AS s ON f.idSeller = s.idSeller\n",
    "GROUP BY\n",
    "  s.vendor_no\n",
    "ORDER BY\n",
    "  total_gross_margin_dollars DESC;"
   ]
  },
  {
   "cell_type": "markdown",
   "metadata": {
    "application/vnd.databricks.v1+cell": {
     "cellMetadata": {},
     "inputWidgets": {},
     "nuid": "7887180c-34f0-40e9-aa49-c9742987ec2c",
     "showTitle": false,
     "tableResultSettingsMap": {},
     "title": ""
    }
   },
   "source": [
    "En esta consulta se visualiza la rentabilidad de cada vendedor, identificado por su número de vendedor.\n",
    "La consulta calcula los ingresos totales, el costo total y el margen de beneficio bruto total para cada vendedor, mostrando el resultado tanto en dólares como en porcentaje.\n",
    "Los resultados están ordenados por el margen en dólares en forma descendente, mostrando los vendedores más rentables primero."
   ]
  },
  {
   "cell_type": "markdown",
   "metadata": {
    "application/vnd.databricks.v1+cell": {
     "cellMetadata": {},
     "inputWidgets": {},
     "nuid": "1f8382e6-1a64-4a1e-9124-a1a2058746d4",
     "showTitle": false,
     "tableResultSettingsMap": {},
     "title": ""
    }
   },
   "source": [
    "## Optimización de precios"
   ]
  },
  {
   "cell_type": "markdown",
   "metadata": {
    "application/vnd.databricks.v1+cell": {
     "cellMetadata": {},
     "inputWidgets": {},
     "nuid": "98a2cf57-ad04-4aa6-b0fa-096cfb8583a8",
     "showTitle": false,
     "tableResultSettingsMap": {},
     "title": ""
    }
   },
   "source": [
    "### Relación entre el precio minorista y el volumen de venta"
   ]
  },
  {
   "cell_type": "markdown",
   "metadata": {
    "application/vnd.databricks.v1+cell": {
     "cellMetadata": {},
     "inputWidgets": {},
     "nuid": "26b384ce-fd7b-495f-b840-1e1705d30bf9",
     "showTitle": false,
     "tableResultSettingsMap": {},
     "title": ""
    }
   },
   "source": [
    "Para contestar esta pregunta se analizará la elasticidad de precios.\n",
    "En caso de aumentar un precio, que impacto tiene en el volumen de venta."
   ]
  },
  {
   "cell_type": "code",
   "execution_count": 0,
   "metadata": {
    "application/vnd.databricks.v1+cell": {
     "cellMetadata": {
      "byteLimit": 2048000,
      "implicitDf": true,
      "rowLimit": 10000
     },
     "inputWidgets": {},
     "nuid": "156f6d77-6773-422a-bf21-cc1dc5f29de2",
     "showTitle": false,
     "tableResultSettingsMap": {},
     "title": ""
    }
   },
   "outputs": [],
   "source": [
    "%sql\n",
    "WITH PricePointAnalysis AS (\n",
    "  -- Calculo el volumen y los ingresos para cada producto EN CADA precio\n",
    "  SELECT\n",
    "    p.itemno,\n",
    "    p.itemName,\n",
    "    f.state_bottle_retail AS price_point,\n",
    "    SUM(f.sale_bottles) AS total_bottles_sold,\n",
    "    ROUND(SUM(f.sale_dollars), 2) AS total_revenue\n",
    "  FROM\n",
    "    sales.sales_gold.fact_sales AS f\n",
    "  JOIN\n",
    "    sales.sales_gold.dim_product AS p ON f.idProduct = p.idProduct\n",
    "  GROUP BY\n",
    "    p.itemno,\n",
    "    p.itemName,\n",
    "    f.state_bottle_retail\n",
    "),\n",
    "\n",
    "RankedPricePoints AS (\n",
    "  SELECT\n",
    "    *,\n",
    "    -- Contar cuántos puntos de precio (filas) hay por cada 'itemno'\n",
    "    COUNT(*) OVER (PARTITION BY itemno) AS price_point_count\n",
    "  FROM\n",
    "    PricePointAnalysis\n",
    ")\n",
    "\n",
    "-- Seleccionamos solo los productos que tienen más de un precio\n",
    "SELECT\n",
    "  itemno,\n",
    "  itemName,\n",
    "  price_point,\n",
    "  total_bottles_sold,\n",
    "  total_revenue\n",
    "FROM\n",
    "  RankedPricePoints\n",
    "WHERE\n",
    "  price_point_count > 1\n",
    "  --and itemno = 266 --En caso de analizar un producto en específico introducir el itemno\n",
    "ORDER BY\n",
    "  itemno,\n",
    "  itemName,\n",
    "  price_point;"
   ]
  },
  {
   "cell_type": "markdown",
   "metadata": {
    "application/vnd.databricks.v1+cell": {
     "cellMetadata": {},
     "inputWidgets": {},
     "nuid": "41ef810f-4458-405f-8923-5b2a1bc30383",
     "showTitle": false,
     "tableResultSettingsMap": {},
     "title": ""
    }
   },
   "source": [
    "En esta consulta se analiza la elasticidad de precios de los productos.\n",
    "Se visualiza el itemno de un producto, los distintos precios a los que se ha vendido, el total de botellas vendidas a ese precio, y el ingreso total generado en ese mismo punto de precio.\n",
    "La consulta filtra automáticamente y muestra únicamente aquellos productos que se han vendido a más de un precio distinto. Esto es fundamental para el análisis, ya que permite comparar cómo reacciona el volumen de ventas cuando cambia el precio de un mismo artículo.\n",
    "Los resultados se ordenan por itemno y price_point, facilitando la comparación directa del rendimiento de un producto a sus diferentes precios. La consulta también incluye una línea comentada donde se puede introducir un itemno específico para aislar el análisis a un solo producto.\n",
    "Los productos que no se encuentren en la lista no podrán ser sujetos a este análisis debido a que solo fueron vendidos a un único precio."
   ]
  },
  {
   "cell_type": "markdown",
   "metadata": {
    "application/vnd.databricks.v1+cell": {
     "cellMetadata": {},
     "inputWidgets": {},
     "nuid": "28189ddf-42cc-4f6a-991b-7005c1b9ee62",
     "showTitle": false,
     "tableResultSettingsMap": {},
     "title": ""
    }
   },
   "source": [
    "Por ejemplo se puede analizar que el producto de itemno = 227 es un producto elastico porque sube el precio y disminuye el volumen de ventas.\n",
    "Por otro lado el producto de itemno = 352 es un producto inelastico porque sube el precio y el volumen de ventas aumento."
   ]
  },
  {
   "cell_type": "markdown",
   "metadata": {
    "application/vnd.databricks.v1+cell": {
     "cellMetadata": {},
     "inputWidgets": {},
     "nuid": "47402e3a-9619-4ddb-b0c1-e5080da4fd16",
     "showTitle": false,
     "tableResultSettingsMap": {},
     "title": ""
    }
   },
   "source": [
    "A aquellos productos inelásticos se puede llevar a cabo una revisión para aumentar el precio, sin embargo, aquellos productos elásticos se debe valorar mantener o disminuir el precio."
   ]
  }
 ],
 "metadata": {
  "application/vnd.databricks.v1+notebook": {
   "computePreferences": {
    "hardware": {
     "accelerator": null,
     "gpuPoolId": null,
     "memory": null
    }
   },
   "dashboards": [],
   "environmentMetadata": {
    "base_environment": "",
    "environment_version": "4"
   },
   "inputWidgetPreferences": null,
   "language": "python",
   "notebookMetadata": {
    "mostRecentlyExecutedCommandWithImplicitDF": {
     "commandId": 7383919413584666,
     "dataframes": [
      "_sqldf"
     ]
    },
    "pythonIndentUnit": 4
   },
   "notebookName": "Business questions",
   "widgets": {}
  },
  "language_info": {
   "name": "python"
  }
 },
 "nbformat": 4,
 "nbformat_minor": 0
}
