{
 "cells": [
  {
   "cell_type": "markdown",
   "metadata": {
    "application/vnd.databricks.v1+cell": {
     "cellMetadata": {
      "byteLimit": 2048000,
      "rowLimit": 10000
     },
     "inputWidgets": {},
     "nuid": "f53f57b0-a708-4cfb-8ff1-4ddb973292f3",
     "showTitle": false,
     "tableResultSettingsMap": {},
     "title": ""
    }
   },
   "source": [
    "# Parámetros"
   ]
  },
  {
   "cell_type": "code",
   "execution_count": 0,
   "metadata": {
    "application/vnd.databricks.v1+cell": {
     "cellMetadata": {
      "byteLimit": 2048000,
      "rowLimit": 10000
     },
     "inputWidgets": {},
     "nuid": "4d5c11ed-de21-40b5-bc1b-9e0bab9c2e9a",
     "showTitle": false,
     "tableResultSettingsMap": {},
     "title": ""
    }
   },
   "outputs": [],
   "source": [
    "# catalog = \"sales\"\n",
    "# bronze_schema = \"sales_bronze\"\n",
    "# bronze_table = \"sales_raw\"\n",
    "# silver_schema = \"sales_silver\"\n",
    "# silver_table = \"sales_curated\""
   ]
  },
  {
   "cell_type": "code",
   "execution_count": 0,
   "metadata": {
    "application/vnd.databricks.v1+cell": {
     "cellMetadata": {
      "byteLimit": 2048000,
      "rowLimit": 10000
     },
     "inputWidgets": {},
     "nuid": "e4b6d2f2-846e-46b9-85bb-6d9ee79993a3",
     "showTitle": false,
     "tableResultSettingsMap": {},
     "title": ""
    }
   },
   "outputs": [],
   "source": [
    "#Obtención de los parametros\n",
    "try:\n",
    "    catalog = dbutils.widgets.get(\"catalog\")\n",
    "    bronze_schema = dbutils.widgets.get(\"bronze_schema\")\n",
    "    bronze_table = dbutils.widgets.get(\"bronze_table\")\n",
    "    silver_schema = dbutils.widgets.get(\"silver_schema\")\n",
    "    silver_table = dbutils.widgets.get(\"silver_table\")\n",
    "    print(\"Parámetros cargados exitosamente.\")\n",
    "\n",
    "except Exception as e:\n",
    "    print(f\"Error fatal: No se pudieron obtener los parámetros\")\n",
    "    print(f\"Detalle del error: {e}\")\n",
    "    # Detiene la ejecución del notebook si los parámetros fallan\n",
    "    raise Exception(\"Error al obtener parámetros\")\n"
   ]
  },
  {
   "cell_type": "markdown",
   "metadata": {
    "application/vnd.databricks.v1+cell": {
     "cellMetadata": {
      "byteLimit": 2048000,
      "rowLimit": 10000
     },
     "inputWidgets": {},
     "nuid": "43c8b12f-bfe7-4edc-9f3f-ef8f483ae6b2",
     "showTitle": false,
     "tableResultSettingsMap": {},
     "title": ""
    }
   },
   "source": [
    "# Cargar datos Sales desde Bronze"
   ]
  },
  {
   "cell_type": "code",
   "execution_count": 0,
   "metadata": {
    "application/vnd.databricks.v1+cell": {
     "cellMetadata": {
      "byteLimit": 2048000,
      "rowLimit": 10000
     },
     "inputWidgets": {},
     "nuid": "be75d70b-0edc-4c2d-a138-673d0691821c",
     "showTitle": false,
     "tableResultSettingsMap": {},
     "title": ""
    }
   },
   "outputs": [],
   "source": [
    "from pyspark.sql.functions import (\n",
    "    col, when, current_timestamp, floor, round, to_date\n",
    ")\n",
    "from pyspark.sql.types import (\n",
    "    IntegerType, DecimalType, DoubleType\n",
    ")\n",
    "\n",
    "try:\n",
    "    # Carga las ventas desde la capa bronze\n",
    "    df_sales_raw = spark.table(f\"{catalog}.{bronze_schema}.{bronze_table}\")\n",
    "    print(\"Lectura de capa Bronze exitosa.\")\n",
    "\n",
    "except Exception as e:\n",
    "    print(f\"Error fatal: No se pudo leer la tabla de origen Bronze.\")\n",
    "    print(f\"Detalle del error: {e}\")\n",
    "    raise Exception(\"Error al leer de Bronze.\")\n",
    "\n",
    "try:\n",
    "    #Se identificaron estas columnas como cruciales para el analisis del registro, si alguno de estos valores tiene un valor nulo el registro sera removido\n",
    "    filter_cols = [\"invoice_line_no\", \"date\", \"store\", \"county_number\", \"itemno\", \"vendor_no\", \"sale_bottles\", \"category\", \"state_bottle_retail\", \"state_bottle_cost\"]\n",
    "\n",
    "    df_cleaned_nulls = df_sales_raw.dropna(subset=filter_cols)\n",
    "    print(f\"Se eliminaron {df_sales_raw.count() - df_cleaned_nulls.count()} registros por tener valores nulos en las columnas cruciales\")\n",
    "\n",
    "    #Completar valores faltantes no excluyentes (no se consideran category_name, vendor_name, im_desc y county porque sus nulos fueron removidos al analizar si un registro desde la fuente es válido)\n",
    "    df_silver = df_sales_raw.na.fill({\n",
    "            \"address\": \"UNKNOWN\",\n",
    "            \"city\": \"UNKNOWN\",\n",
    "            \"zipcode\": \"00000\",\n",
    "            \"name\": \"UNKNOWN\",\n",
    "            \"pack\": \"0\", \n",
    "    })\n",
    "\n",
    "    #Se transforman las columnas númericas al tipo de dato correspondiente\n",
    "    df_silver_enriched = (df_cleaned_nulls\n",
    "        .withColumn(\"date\", to_date(col(\"date\"), \"yyyy-MM-dd\"))\n",
    "        .withColumn(\"store\", col(\"store\").cast(IntegerType())) \n",
    "        .withColumn(\"county_number\", col(\"county_number\").cast(IntegerType()))\n",
    "        .withColumn(\"category\", col(\"category\").cast(IntegerType())) \n",
    "        .withColumn(\"vendor_no\", col(\"vendor_no\").cast(IntegerType())) \n",
    "        .withColumn(\"itemno\", col(\"itemno\").cast(IntegerType()))\n",
    "        .withColumn(\"pack\", col(\"pack\").cast(DoubleType()).cast(IntegerType()))\n",
    "        .withColumn(\"bottle_volume_ml\", col(\"bottle_volume_ml\").cast(DoubleType()).cast(IntegerType()))\n",
    "        .withColumn(\"sale_bottles\", col(\"sale_bottles\").cast(IntegerType()))\n",
    "        .withColumn(\"state_bottle_cost\", col(\"state_bottle_cost\").cast(DecimalType(10, 2)))\n",
    "        .withColumn(\"state_bottle_retail\", col(\"state_bottle_retail\").cast(DecimalType(10, 2)))\n",
    "        .withColumn(\"sale_dollars\", col(\"sale_dollars\").cast(DecimalType(10, 2)))\n",
    "        .withColumn(\"sale_liters\", col(\"sale_liters\").cast(DecimalType(10, 3)))\n",
    "        .withColumn(\"sale_gallons\", col(\"sale_gallons\").cast(DecimalType(10, 3)))\n",
    "    )\n",
    "\n",
    "    #Elimino aquellos registros que los productos no tienen costo de venta, precio de venta o volumen de botella\n",
    "    df_silver_enriched = df_silver_enriched.filter(\n",
    "        (col(\"state_bottle_cost\") > 0) & \n",
    "        (col(\"state_bottle_retail\") > 0) &\n",
    "        (col(\"bottle_volume_ml\") > 0))\n",
    " \n",
    "\n",
    "    df_silver_enriched = df_silver_enriched.withColumn(\n",
    "        # Recalcula 'sale_dollars' (botellas vendidas x precio unitario)\n",
    "        \"sale_dollars\", round(col(\"sale_bottles\") * col(\"state_bottle_retail\"), 2)\n",
    "    ).withColumn(\n",
    "        # Calcula 'total_cost' (botellas vendidas x costo unitario)\n",
    "        \"total_cost\", round(col(\"sale_bottles\") * col(\"state_bottle_cost\"), 2)\n",
    "    ).withColumn(\n",
    "        # Calcula 'sale_liters' (botellas vendidas x volumen por botella)\n",
    "        \"sale_liters\", round(col(\"sale_bottles\") * col(\"bottle_volume_ml\") / 1000, 3)\n",
    "    ).withColumn(\n",
    "        # Calcula 'sale_cases' (división entera entre botellas vendidas y tamaño de pack)\n",
    "        \"sale_cases\", when(col(\"pack\") > 0, floor(col(\"sale_bottles\") / col(\"pack\")))\n",
    "                    .otherwise(0)\n",
    "    ).withColumn(\n",
    "        # Agrega la fecha de carga\n",
    "        \"StoreDay\", current_timestamp()\n",
    "    )\n",
    "\n",
    "    #calcula 'sale_margin' sale_dollars - total_cost\n",
    "    df_silver_enriched = df_silver_enriched.withColumn(\n",
    "        \"sale_margin\", round(col(\"sale_dollars\") - col(\"total_cost\"), 2)\n",
    "    )\n",
    "\n",
    "    #Se transforman en el tipo de dato correspondiente las columnas calculadas\n",
    "    df_silver_enriched = (df_silver_enriched\n",
    "        .withColumn(\"total_cost\", col(\"total_cost\").cast(DecimalType(10, 2)))\n",
    "        .withColumn(\"sale_margin\", col(\"sale_margin\").cast(DecimalType(10, 2)))\n",
    "        .withColumn(\"sale_cases\", col(\"sale_cases\").cast(IntegerType()))\n",
    "    )\n",
    "\n",
    "    #Determino el orden de las columnas\n",
    "    df_sales_final = df_silver_enriched.select(\n",
    "    \"invoice_line_no\",\n",
    "    \"date\",\n",
    "    col(\"store\").alias(\"store_number\"),\n",
    "    col(\"name\").alias(\"store_name\"),\n",
    "    \"address\",\n",
    "    \"city\",\n",
    "    \"zipcode\",\n",
    "    \"county_number\",\n",
    "    \"county\",\n",
    "    \"category\",\n",
    "    \"category_name\",\n",
    "    \"vendor_no\",\n",
    "    \"vendor_name\",\n",
    "    \"itemno\",\n",
    "    \"im_desc\",\n",
    "    \"pack\",\n",
    "    \"bottle_volume_ml\",\n",
    "    \"state_bottle_cost\",\n",
    "    \"state_bottle_retail\",\n",
    "    \"sale_bottles\",\n",
    "    \"sale_dollars\",     \n",
    "    \"sale_liters\",      \n",
    "    \"total_cost\",        # Nuevo\n",
    "    \"sale_margin\",       # Nuevo\n",
    "    \"sale_cases\",        # Nuevo\n",
    "    \"StoreDay\"           \n",
    "    )\n",
    "\n",
    "    #Puente entre el dataframe y la tabla destino\n",
    "    df_sales_final.createOrReplaceTempView(\"tmp_sales_final\")\n",
    "    print(\"Transformaciones y creación de vista temporal 'tmp_sales_final' exitosa.\")\n",
    "    \n",
    "except Exception as e:\n",
    "    print(f\"Error fatal: Fallo durante la transformación de datos\")\n",
    "    print(f\"Detalle del error: {e}\")\n",
    "    raise Exception(\"Verifique la lógica de transformación o la calidad de los datos\")\n"
   ]
  },
  {
   "cell_type": "markdown",
   "metadata": {
    "application/vnd.databricks.v1+cell": {
     "cellMetadata": {
      "byteLimit": 2048000,
      "rowLimit": 10000
     },
     "inputWidgets": {},
     "nuid": "63384351-afd1-4003-95ce-f63d53d99144",
     "showTitle": false,
     "tableResultSettingsMap": {},
     "title": ""
    }
   },
   "source": [
    "# Crear tabla Sales Curated si no existe"
   ]
  },
  {
   "cell_type": "code",
   "execution_count": 0,
   "metadata": {
    "application/vnd.databricks.v1+cell": {
     "cellMetadata": {
      "byteLimit": 2048000,
      "rowLimit": 10000
     },
     "inputWidgets": {},
     "nuid": "4a479162-ece4-428e-874a-8bcc7da1eec8",
     "showTitle": false,
     "tableResultSettingsMap": {},
     "title": ""
    }
   },
   "outputs": [],
   "source": [
    "try:  \n",
    "  # Define la consulta SQL para crear la tabla Sales Curated\n",
    "  create_table_query = f\"\"\"\n",
    "  CREATE TABLE IF NOT EXISTS {catalog}.{silver_schema}.{silver_table} (\n",
    "    invoice_line_no STRING,\n",
    "    date DATE,\n",
    "    store_number INT,\n",
    "    store_name STRING,\n",
    "    address STRING,\n",
    "    city STRING,\n",
    "    zipcode STRING,\n",
    "    county_number INT,\n",
    "    county STRING,\n",
    "    category INT,\n",
    "    category_name STRING,\n",
    "    vendor_no INT,\n",
    "    vendor_name STRING,\n",
    "    itemno INT,\n",
    "    im_desc STRING,\n",
    "    pack INT,\n",
    "    bottle_volume_ml INT,\n",
    "    state_bottle_cost DECIMAL(10, 2),\n",
    "    state_bottle_retail DECIMAL(10, 2),\n",
    "    sale_bottles INT,\n",
    "    sale_dollars DECIMAL(10, 2),\n",
    "    sale_liters DECIMAL(10, 3),\n",
    "    total_cost DECIMAL(10, 2),\n",
    "    sale_margin DECIMAL(10, 2),\n",
    "    sale_cases INT,\n",
    "    StoreDay TIMESTAMP\n",
    "  )\n",
    "  USING DELTA\n",
    "  \"\"\"\n",
    "\n",
    "  # Ejecuta la consulta para crear la tabla\n",
    "  spark.sql(create_table_query)\n",
    "  print(\"Tabla de destino asegurada\")\n",
    "\n",
    "except Exception as e:\n",
    "    print(f\"Error fatal: Fallo durante la creación/verificación de la tabla en Silver.\")\n",
    "    print(f\"Detalle del error: {e}\")\n",
    "    raise Exception(\"Verifique la sintaxis de CREATE TABLE\")"
   ]
  },
  {
   "cell_type": "markdown",
   "metadata": {
    "application/vnd.databricks.v1+cell": {
     "cellMetadata": {
      "byteLimit": 2048000,
      "rowLimit": 10000
     },
     "inputWidgets": {},
     "nuid": "e40e4c6a-250b-43a3-b730-1e96c268bd5a",
     "showTitle": false,
     "tableResultSettingsMap": {},
     "title": ""
    }
   },
   "source": [
    "# Carga de la tabla Sales Curated"
   ]
  },
  {
   "cell_type": "code",
   "execution_count": 0,
   "metadata": {
    "application/vnd.databricks.v1+cell": {
     "cellMetadata": {
      "byteLimit": 2048000,
      "rowLimit": 10000
     },
     "inputWidgets": {},
     "nuid": "f050f21e-bf45-47f9-be39-4155ee22dad2",
     "showTitle": false,
     "tableResultSettingsMap": {},
     "title": ""
    }
   },
   "outputs": [],
   "source": [
    "try:\n",
    "  #Elimino el contenido que pudo haber quedado cargado de una corrida anterior\n",
    "  truncate_query = f\"TRUNCATE TABLE {catalog}.{silver_schema}.{silver_table}\"\n",
    "  spark.sql(truncate_query)\n",
    "  print(\"Tabla de destino truncada.\")\n",
    "\n",
    "  # 6. Inserta los datos en la tabla Silver\n",
    "  insert_query = f\"\"\"\n",
    "  INSERT INTO {catalog}.{silver_schema}.{silver_table} (\n",
    "    invoice_line_no,\n",
    "    date,\n",
    "    store_number,\n",
    "    store_name,\n",
    "    address,\n",
    "    city,\n",
    "    zipcode,\n",
    "    county_number,\n",
    "    county,\n",
    "    category,\n",
    "    category_name,\n",
    "    vendor_no,\n",
    "    vendor_name,\n",
    "    itemno,\n",
    "    im_desc,\n",
    "    pack,\n",
    "    bottle_volume_ml,\n",
    "    state_bottle_cost,\n",
    "    state_bottle_retail,\n",
    "    sale_bottles,\n",
    "    sale_dollars,\n",
    "    sale_liters,\n",
    "    total_cost,\n",
    "    sale_margin,\n",
    "    sale_cases,\n",
    "    StoreDay\n",
    "  )\n",
    "  SELECT\n",
    "    invoice_line_no,\n",
    "    date,\n",
    "    store_number,\n",
    "    store_name,\n",
    "    address,\n",
    "    city,\n",
    "    zipcode,\n",
    "    county_number,\n",
    "    county,\n",
    "    category,\n",
    "    category_name,\n",
    "    vendor_no,\n",
    "    vendor_name,\n",
    "    itemno,\n",
    "    im_desc,\n",
    "    pack,\n",
    "    bottle_volume_ml,\n",
    "    state_bottle_cost,\n",
    "    state_bottle_retail,\n",
    "    sale_bottles,\n",
    "    sale_dollars,\n",
    "    sale_liters,\n",
    "    total_cost,\n",
    "    sale_margin,\n",
    "    sale_cases,\n",
    "    StoreDay\n",
    "  FROM tmp_sales_final\n",
    "  \"\"\"\n",
    "\n",
    "  # Ejecuta la consulta de inserción\n",
    "  spark.sql(insert_query)\n",
    "  print(\"Inserción de datos en capa Silver completada exitosamente.\")\n",
    "except Exception as e:\n",
    "    print(f\"Error fatal: Fallo durante la escritura de datos en la capa Silver.\")\n",
    "    print(f\"Detalle del error: {e}\")\n",
    "    raise Exception(\"Error al TRUNCATE/INSERT. Verifique desfase de esquema.\")"
   ]
  }
 ],
 "metadata": {
  "application/vnd.databricks.v1+notebook": {
   "computePreferences": {
    "hardware": {
     "accelerator": null,
     "gpuPoolId": null,
     "memory": null
    }
   },
   "dashboards": [],
   "environmentMetadata": {
    "base_environment": "",
    "environment_version": "4"
   },
   "inputWidgetPreferences": null,
   "language": "python",
   "notebookMetadata": {
    "mostRecentlyExecutedCommandWithImplicitDF": {
     "commandId": 6167112445314037,
     "dataframes": [
      "_sqldf"
     ]
    },
    "pythonIndentUnit": 4
   },
   "notebookName": "NB2_Load_Sales_Curated_Data",
   "widgets": {}
  },
  "language_info": {
   "name": "python"
  }
 },
 "nbformat": 4,
 "nbformat_minor": 0
}
